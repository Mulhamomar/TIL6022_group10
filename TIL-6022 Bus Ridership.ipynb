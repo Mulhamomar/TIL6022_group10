{
 "cells": [
  {
   "cell_type": "markdown",
   "metadata": {},
   "source": [
    "# Project Group - \n",
    "\n",
    "Members: Omar Mulham, Rattan Jalissa, Rider Ben, Verbaan Hinke, Zhao Lois\n",
    "\n",
    "Student numbers: 5930855, 5872537, 6461646, ....., 6568467"
   ]
  },
  {
   "cell_type": "markdown",
   "metadata": {},
   "source": [
    "# Research Objective\n",
    "\n",
    "Compare how demographic data affects bus ridership in Boston\n",
    "\n",
    "Sub-questions:\n",
    "- How does median age of the local block group affect bus stop ridership?\n",
    "- How does the gender distribution of the local block group affect bus stop ridership?\n",
    "- How does population density of the local block group affect bus stop ridership?"
   ]
  },
  {
   "cell_type": "markdown",
   "metadata": {},
   "source": [
    "# Contribution Statement\n",
    "\n",
    "*Be specific. Some of the tasks can be coding (expect everyone to do this), background research, conceptualisation, visualisation, data analysis, data modelling*"
   ]
  },
  {
   "cell_type": "markdown",
   "metadata": {},
   "source": [
    "General tasks\n",
    "- Create and clean dataset (Ben)\n",
    "- Background research (Ben)\n",
    "- Collect and aggregate results (Jalissa)\n",
    "- Report writing (All)\n",
    "\n",
    "Coding tasks\n",
    "- Make charts (Jalissa)\n",
    "- Run statistical tests (Lois)\n",
    "- Put all the parts together (Hinke)\n",
    "- Analysis pipeline (Ben)\n",
    "- Streamlit visualization (Mulham)\n",
    "\n",
    "\n",
    "**Mulham**: Streamlit visualization\n",
    "\n",
    "**Jalissa**: Make charts and collect/aggregate results\n",
    "\n",
    "**Ben**: Collect dataset/background research, intial cleaning/analysis pipeline\n",
    "\n",
    "**Hinke**: Create final code that runs all required functions\n",
    "\n",
    "**Lois**: Statistical analysis\n",
    "\n",
    "**All** Write their sections of the final report"
   ]
  },
  {
   "cell_type": "markdown",
   "metadata": {},
   "source": [
    "# Data Used"
   ]
  },
  {
   "cell_type": "markdown",
   "metadata": {},
   "source": []
  },
  {
   "cell_type": "markdown",
   "metadata": {},
   "source": [
    "# Data Pipeline"
   ]
  },
  {
   "cell_type": "markdown",
   "metadata": {},
   "source": []
  }
 ],
 "metadata": {
  "kernelspec": {
   "display_name": "Python 3",
   "language": "python",
   "name": "python3"
  },
  "language_info": {
   "name": "python",
   "version": "3.8.2"
  },
  "orig_nbformat": 4,
  "vscode": {
   "interpreter": {
    "hash": "31f2aee4e71d21fbe5cf8b01ff0e069b9275f58929596ceb00d14d90e3e16cd6"
   }
  }
 },
 "nbformat": 4,
 "nbformat_minor": 2
}
