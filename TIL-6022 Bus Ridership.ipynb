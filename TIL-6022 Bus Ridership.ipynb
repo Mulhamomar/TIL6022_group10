{
 "cells": [
  {
   "cell_type": "markdown",
   "metadata": {},
   "source": [
    "# Project Group - \n",
    "\n",
    "Members: Omar Mulham, Rattan Jalissa, Rider Ben, Verbaan Hinke, Zhao Lois\n",
    "\n",
    "Student numbers: 5930855, 5872537, 6461646, ....., 6568467"
   ]
  },
  {
   "cell_type": "markdown",
   "metadata": {},
   "source": [
    "# Research Objective\n",
    "\n",
    "Compare how demographic data affects bus ridership in Boston\n",
    "\n",
    "Sub-questions:\n",
    "- How does median age of the local block group affect bus stop ridership?\n",
    "- How does the gender distribution of the local block group affect bus stop ridership?\n",
    "- How does population density of the local block group affect bus stop ridership?"
   ]
  },
  {
   "cell_type": "markdown",
   "metadata": {},
   "source": [
    "# Contribution Statement"
   ]
  },
  {
   "cell_type": "markdown",
   "metadata": {},
   "source": [
    "\n",
    "**Mulham**: Streamlit visualization\n",
    "\n",
    "**Jalissa**: Make charts and collect/aggregate results\n",
    "\n",
    "**Ben**: Collect dataset/background research, intial cleaning/analysis pipeline\n",
    "\n",
    "**Hinke**: Create final code that runs all required functions\n",
    "\n",
    "**Lois**: Statistical analysis\n",
    "\n",
    "**All** Write their sections of the final report"
   ]
  },
  {
   "cell_type": "markdown",
   "metadata": {},
   "source": [
    "# Data Used"
   ]
  },
  {
   "cell_type": "markdown",
   "metadata": {},
   "source": [
    "MBTA Bus Ridership by Time Period, Season, Route/Line, and Stop - Fall (2024)\n",
    "https://mbta-massdot.opendata.arcgis.com/datasets/7acd353c1a734eb8a23caf46a0e66b23_0/explore?filters=eyJzZWFzb24iOlsiRmFsbCAyMDI0IiwiRmFsbCAyMDIwIl19\n",
    "\n",
    "MassGIS Data: 2020 U.S. Census\n",
    "https://www.mass.gov/info-details/massgis-data-2020-us-census\n",
    "\n",
    "Jonathan Schroeder, David Van Riper, Steven Manson, Katherine Knowles, Tracy Kugler, Finn Roberts, and Steven Ruggles. IPUMS National Historical Geographic Information System: Version 20.0 [dataset]. Minneapolis, MN: IPUMS. 2025. http://doi.org/10.18128/D050.V20.0"
   ]
  },
  {
   "cell_type": "markdown",
   "metadata": {},
   "source": [
    "# Data Pipeline"
   ]
  },
  {
   "cell_type": "markdown",
   "metadata": {},
   "source": []
  }
 ],
 "metadata": {
  "kernelspec": {
   "display_name": "Python 3",
   "language": "python",
   "name": "python3"
  },
  "language_info": {
   "name": "python",
   "version": "3.8.2"
  },
  "orig_nbformat": 4,
  "vscode": {
   "interpreter": {
    "hash": "31f2aee4e71d21fbe5cf8b01ff0e069b9275f58929596ceb00d14d90e3e16cd6"
   }
  }
 },
 "nbformat": 4,
 "nbformat_minor": 2
}
