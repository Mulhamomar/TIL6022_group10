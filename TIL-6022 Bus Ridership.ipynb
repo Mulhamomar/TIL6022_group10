{
 "cells": [
  {
   "cell_type": "markdown",
   "metadata": {},
   "source": [
    "# Project Group - \n",
    "\n",
    "Members: Mulham Omar, Jalissa Rattan, Benjamin Rider, Hinke Verbaan, Lois Zhao\n",
    "\n",
    "Student numbers: 5930855, 5872537, 6461646, 6103960, 6568467"
   ]
  },
  {
   "cell_type": "markdown",
   "metadata": {},
   "source": [
    "# Research Objective\n",
    "\n",
    "Compare how demographic data affects bus ridership in Boston\n",
    "\n",
    "Sub-questions:\n",
    "- How does median age of the local block group affect bus stop ridership?\n",
    "- How does the gender distribution of the local block group affect bus stop ridership?\n",
    "- How does population density of the local block group affect bus stop ridership?"
   ]
  },
  {
   "cell_type": "markdown",
   "metadata": {},
   "source": [
    "# Contribution Statement"
   ]
  },
  {
   "cell_type": "markdown",
   "metadata": {},
   "source": [
    "\n",
    "**Mulham**: Streamlit visualization\n",
    "\n",
    "**Jalissa**: Make charts and collect/aggregate results\n",
    "\n",
    "**Ben**: Collect dataset/background research, intial cleaning/analysis pipeline\n",
    "\n",
    "**Hinke**: Create final code that runs all required functions\n",
    "\n",
    "**Lois**: Statistical analysis\n",
    "\n",
    "**All** Write their sections of the final report"
   ]
  },
  {
   "cell_type": "markdown",
   "metadata": {},
   "source": [
    "# Data Used"
   ]
  },
  {
   "cell_type": "markdown",
   "metadata": {},
   "source": [
    "Dataset 1: MBTA Bus Ridership by Time Period, Season, Route/Line, and Stop - Fall (2024)\n",
    "https://mbta-massdot.opendata.arcgis.com/datasets/7acd353c1a734eb8a23caf46a0e66b23_0/explore?filters=eyJzZWFzb24iOlsiRmFsbCAyMDI0IiwiRmFsbCAyMDIwIl19\n",
    "\n",
    "Dataset 2: MassGIS Data: 2020 U.S. Census\n",
    "https://www.mass.gov/info-details/massgis-data-2020-us-census\n",
    "\n",
    "Dataset 3: Jonathan Schroeder, David Van Riper, Steven Manson, Katherine Knowles, Tracy Kugler, Finn Roberts, and Steven Ruggles. IPUMS National Historical Geographic Information System: Version 20.0 [dataset]. Minneapolis, MN: IPUMS. 2025. http://doi.org/10.18128/D050.V20.0\n",
    "\n",
    "Dataset 4: MassGIS Data: MBTA Bus Routes and Stops\n",
    "https://www.mass.gov/info-details/massgis-data-mbta-bus-routes-and-stops"
   ]
  },
  {
   "cell_type": "markdown",
   "metadata": {},
   "source": [
    "# Data Pipeline"
   ]
  },
  {
   "cell_type": "markdown",
   "metadata": {},
   "source": [
    "① Input data: We extract the datasets from the websites (mentioned in Data Used). \n",
    "\n",
    "- Dataset 1: We import the datafile (.xlsx) to excel and use this to remove unnessary data and make calculated columns. Afterwards we transform it to a csv file and import it via pandas into python. \n",
    "\n",
    "- Dataset 2: We import the datafile (.shp) to arcgis, do the nessesary transformations (explained in \"Transform data\") and remove unnessary data. Afterwards we transform it to a csv file and import it via pandas into python. \n",
    "\n",
    "- Dataset 3: We import the datafile (.shp) to arcgis, do the nessesary transformations (explained in \"Transform data\") and remove unnessary data. Afterwards we transform it to a csv file and import it via pandas into python. \n",
    "\n",
    "\n",
    "② Transform data: In this step we select and transform useful data from the datasets. Below here, we describe how we get the dataframe for the analysis analyse. \n",
    "\n",
    "\n",
    "- Bus_Ridership: In dataset 1, the usage is devided by time of day, for our research question we need to calculate the average use of a busstop in general per day. Therefore from database 1 we add average_ons and average_off per stop_ID this is devided by the amount of times that this specific stop_ID was in the database. This transformation will be done in python.\n",
    "\n",
    "        Busridership per day for specific busstop == [average_ons + average_offs]/amount of entries in stop_ID\n",
    "\n",
    "\n",
    "All of the datatypes below were transformed via the computerprogramm arcgis. With intersecting the busstop location(dataset 1) and the local block group (dataset 2). From here the data was translated into a csv file. \n",
    "\n",
    "- Median_Age: The median age in a certain local block group. This datatype was directly selected from dataset 2. We do not need to do further processing in Python.\n",
    "\n",
    "- Gender_Distribution(Percent Male/Percent Female): The gender distribution in a certain local block group. This datatype was directly selected from dataset 2. We do not need to do further processing in Python.\n",
    "\n",
    "- Population_Density: The total population (Total_Popu) of a single block group we can get this directly from dataset 2. The area of a single block group (Block_Area) can be derived from dataset 3. This transformation will be done in python.\n",
    "\n",
    "                               Population density == Total_Popu / Block_Area\n",
    "\n",
    "\n",
    "③ Analyze data: For every research question the same statistical analysis is used, as we are just switching what we are comparing the ridership data to (Median_Age, Gender_Distribution and Population_Density). This will be done using the linear regrssion, two propotion Z-test and Anova analysis respectively for each  sub-question in python."
   ]
  },
  {
   "cell_type": "markdown",
   "metadata": {},
   "source": []
  }
 ],
 "metadata": {
  "kernelspec": {
   "display_name": "base",
   "language": "python",
   "name": "python3"
  },
  "language_info": {
   "codemirror_mode": {
    "name": "ipython",
    "version": 3
   },
   "file_extension": ".py",
   "mimetype": "text/x-python",
   "name": "python",
   "nbconvert_exporter": "python",
   "pygments_lexer": "ipython3",
   "version": "3.11.4"
  },
  "orig_nbformat": 4
 },
 "nbformat": 4,
 "nbformat_minor": 2
}
